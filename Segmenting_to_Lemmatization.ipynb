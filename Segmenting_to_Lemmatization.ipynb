{
  "nbformat": 4,
  "nbformat_minor": 0,
  "metadata": {
    "colab": {
      "provenance": [],
      "authorship_tag": "ABX9TyPBwjf+6Lm4F5O5YHeOAkug",
      "include_colab_link": true
    },
    "kernelspec": {
      "name": "python3",
      "display_name": "Python 3"
    },
    "language_info": {
      "name": "python"
    }
  },
  "cells": [
    {
      "cell_type": "markdown",
      "metadata": {
        "id": "view-in-github",
        "colab_type": "text"
      },
      "source": [
        "<a href=\"https://colab.research.google.com/github/mgnarag/NLP_LLM/blob/main/Segmenting_to_Lemmatization.ipynb\" target=\"_parent\"><img src=\"https://colab.research.google.com/assets/colab-badge.svg\" alt=\"Open In Colab\"/></a>"
      ]
    },
    {
      "cell_type": "markdown",
      "source": [
        "Credits to: https://github.com/mochen862/nlp-tutorial/blob/main/nlp_hands_on_exercise.ipynb"
      ],
      "metadata": {
        "id": "SXvD5nfaOIrA"
      }
    },
    {
      "cell_type": "code",
      "execution_count": null,
      "metadata": {
        "id": "GS9nzd3bNhfA"
      },
      "outputs": [],
      "source": [
        "text = \"Millions of people across the UK and beyond have celebrated the coronation of King Charles III - a symbolic ceremony combining a religious service and pageantry. The ceremony was held at Westminster Abbey, with the King becoming the 40th reigning monarch to be crowned there since 1066. Queen Camilla was crowned alongside him before a huge parade back to Buckingham Palace. Here's how the day of splendour and formality, which featured customs dating back more than 1,000 years, unfolded.\"\n",
        "text"
      ]
    },
    {
      "cell_type": "markdown",
      "source": [
        "# **Segmentation**"
      ],
      "metadata": {
        "id": "RysC0oXBN-4z"
      }
    },
    {
      "cell_type": "code",
      "source": [
        "# import\n",
        "import nltk\n",
        "nltk.download('punkt')\n",
        "from nltk.tokenize import sent_tokenize"
      ],
      "metadata": {
        "id": "MWTrwQzaN7i-"
      },
      "execution_count": null,
      "outputs": []
    },
    {
      "cell_type": "code",
      "source": [
        "# Split text into sentences\n",
        "sentences = sent_tokenize(text)\n",
        "sentences"
      ],
      "metadata": {
        "id": "UVUuZ-UBOA2h"
      },
      "execution_count": null,
      "outputs": []
    },
    {
      "cell_type": "code",
      "source": [
        "sentences[2]"
      ],
      "metadata": {
        "id": "xSskkix7OF4t"
      },
      "execution_count": null,
      "outputs": []
    },
    {
      "cell_type": "code",
      "source": [
        "# Punctuation removal\n",
        "import re\n",
        "\n",
        "# Remove punctuation characters\n",
        "text = re.sub(r\"[^a-zA-Z0-9]\", \" \", sentences[2])\n",
        "text"
      ],
      "metadata": {
        "id": "UXxtetqMOH1j"
      },
      "execution_count": null,
      "outputs": []
    },
    {
      "cell_type": "markdown",
      "source": [
        "# **Tokenization**"
      ],
      "metadata": {
        "id": "OTvrRmjNOQRb"
      }
    },
    {
      "cell_type": "code",
      "source": [
        "from nltk.tokenize import word_tokenize"
      ],
      "metadata": {
        "id": "kLISWADBOPpY"
      },
      "execution_count": null,
      "outputs": []
    },
    {
      "cell_type": "code",
      "source": [
        "words = word_tokenize(text)\n",
        "print(words)"
      ],
      "metadata": {
        "id": "1_qus0XkOTbw"
      },
      "execution_count": null,
      "outputs": []
    },
    {
      "cell_type": "markdown",
      "source": [
        "# **Stop Words**"
      ],
      "metadata": {
        "id": "pZBXPUhWObd3"
      }
    },
    {
      "cell_type": "code",
      "source": [
        "nltk.download('stopwords')\n",
        "from nltk.corpus import stopwords"
      ],
      "metadata": {
        "id": "Mpq2SdOOObIU"
      },
      "execution_count": null,
      "outputs": []
    },
    {
      "cell_type": "code",
      "source": [
        "# Remove stop words\n",
        "words = [w for w in words if w not in stopwords.words(\"english\")]\n",
        "print(words)"
      ],
      "metadata": {
        "id": "MJvok_SdOg2q"
      },
      "execution_count": null,
      "outputs": []
    },
    {
      "cell_type": "code",
      "source": [
        "# have a look at the stop words in nltk's corpus\n",
        "print(stopwords.words(\"english\"))"
      ],
      "metadata": {
        "id": "7vD35nXaRprp"
      },
      "execution_count": null,
      "outputs": []
    },
    {
      "cell_type": "code",
      "source": [],
      "metadata": {
        "id": "EPiBewRiRqnq"
      },
      "execution_count": null,
      "outputs": []
    },
    {
      "cell_type": "markdown",
      "source": [
        "# **Stemming and Lemmatization**"
      ],
      "metadata": {
        "id": "j7fklxvjRr_x"
      }
    },
    {
      "cell_type": "code",
      "source": [
        "nltk.download('wordnet') # download for lemmatization\n",
        "nltk.download('omw-1.4')"
      ],
      "metadata": {
        "id": "bJotdreHRvtQ"
      },
      "execution_count": null,
      "outputs": []
    },
    {
      "cell_type": "code",
      "source": [
        "# Stemming\n",
        "from nltk.stem.porter import PorterStemmer\n",
        "\n",
        "# Reduce words to their stems\n",
        "stemmed = [PorterStemmer().stem(w) for w in words]\n",
        "print(stemmed)"
      ],
      "metadata": {
        "id": "XVWtu10ZRxgV"
      },
      "execution_count": null,
      "outputs": []
    },
    {
      "cell_type": "code",
      "source": [
        "# Lemmatize\n",
        "from nltk.stem.wordnet import WordNetLemmatizer\n",
        "\n",
        "# Reduce words to their root form\n",
        "lemmatized = [WordNetLemmatizer().lemmatize(w) for w in words]\n",
        "print(lemmatized)"
      ],
      "metadata": {
        "id": "d5H_0h9KRzDn"
      },
      "execution_count": null,
      "outputs": []
    },
    {
      "cell_type": "code",
      "source": [
        "# Another stemming and lemmatization example\n",
        "words2 = ['wait', 'waiting' , 'studies', 'studying', 'computers']\n",
        "\n",
        "# Stemming\n",
        "# Reduce words to their stems\n",
        "stemmed = [PorterStemmer().stem(w) for w in words2]\n",
        "print(\"Stemming output: {}\".format(stemmed))\n",
        "\n",
        "# Lemmatization\n",
        "# Reduce words to their root form\n",
        "lemmatized = [WordNetLemmatizer().lemmatize(w) for w in words2]\n",
        "print(\"Lemmatization output: {}\".format(lemmatized))"
      ],
      "metadata": {
        "id": "vLYcsixeR0jy"
      },
      "execution_count": null,
      "outputs": []
    },
    {
      "cell_type": "markdown",
      "source": [
        "# **Parts of Speech Tagging**\n"
      ],
      "metadata": {
        "id": "6fKKHfayR6lB"
      }
    },
    {
      "cell_type": "code",
      "source": [
        "nltk.download('averaged_perceptron_tagger')\n",
        "nltk.download('maxent_ne_chunker')"
      ],
      "metadata": {
        "id": "DZP7bfOrR_5m"
      },
      "execution_count": null,
      "outputs": []
    },
    {
      "cell_type": "code",
      "source": [
        "from nltk import pos_tag"
      ],
      "metadata": {
        "id": "60lTju1DSBiQ"
      },
      "execution_count": null,
      "outputs": []
    },
    {
      "cell_type": "code",
      "source": [
        "# tag each word with part of speech\n",
        "pos_tag(words)"
      ],
      "metadata": {
        "id": "BiRwlyN9SDcn"
      },
      "execution_count": null,
      "outputs": []
    },
    {
      "cell_type": "code",
      "source": [
        "\"\"\"\n",
        "POS\n",
        "\n",
        "CC: It is the conjunction of coordinating\n",
        "CD: It is a digit of cardinal\n",
        "DT: It is the determiner\n",
        "EX: Existential\n",
        "FW: It is a foreign word\n",
        "IN: Preposition and conjunction\n",
        "JJ: Adjective\n",
        "JJR and JJS: Adjective and superlative\n",
        "LS: List marker\n",
        "MD: Modal\n",
        "NN: Singular noun\n",
        "NNS, NNP, NNPS: Proper and plural noun\n",
        "PDT: Predeterminer\n",
        "WRB: Adverb of wh\n",
        "WP$: Possessive wh\n",
        "WP: Pronoun of wh\n",
        "WDT: Determiner of wp\n",
        "VBZ: Verb\n",
        "VBP, VBN, VBG, VBD, VB: Forms of verbs\n",
        "UH: Interjection\n",
        "TO: To go\n",
        "RP: Particle\n",
        "RBS, RB, RBR: Adverb\n",
        "PRP, PRP$: Pronoun personal and professional\n",
        "\n",
        "\"\"\""
      ],
      "metadata": {
        "id": "czCwq4AoSFRk"
      },
      "execution_count": null,
      "outputs": []
    },
    {
      "cell_type": "code",
      "source": [],
      "metadata": {
        "id": "amyIZivzSKla"
      },
      "execution_count": null,
      "outputs": []
    },
    {
      "cell_type": "markdown",
      "source": [
        "#**Named entity recognition**\n"
      ],
      "metadata": {
        "id": "iDNxRd9fSPKt"
      }
    },
    {
      "cell_type": "code",
      "source": [
        "from nltk import ne_chunk\n",
        "nltk.download('words')"
      ],
      "metadata": {
        "id": "EY3VgdaoSS5u"
      },
      "execution_count": null,
      "outputs": []
    },
    {
      "cell_type": "code",
      "source": [
        "ner_tree = ne_chunk(pos_tag(word_tokenize(sentences[2])))\n",
        "print(ner_tree)"
      ],
      "metadata": {
        "id": "jXQ2bPTWSUka"
      },
      "execution_count": null,
      "outputs": []
    },
    {
      "cell_type": "code",
      "source": [
        "text = \"Millions of people across the UK and beyond have celebrated the coronation of King Charles III - a symbolic ceremony combining a religious service and pageantry. The ceremony was held at Westminster Abbey, with the King becoming the 40th reigning monarch to be crowned there since 1066. Queen Camilla was crowned alongside him before a huge parade back to Buckingham Palace. Here's how the day of splendour and formality, which featured customs dating back more than 1,000 years, unfolded.\"\n",
        "\n",
        "ner_tree = ne_chunk(pos_tag(word_tokenize(text)))\n",
        "print(ner_tree)"
      ],
      "metadata": {
        "id": "HkPh0ZfmSWx2"
      },
      "execution_count": null,
      "outputs": []
    },
    {
      "cell_type": "code",
      "source": [
        "text = \"Twitter CEO Elon Musk arrived at the Staples Center in Los Angeles, California. \"\n",
        "ner_tree = ne_chunk(pos_tag(word_tokenize(text)))\n",
        "print(ner_tree)"
      ],
      "metadata": {
        "id": "u3EgaW9sSYjr"
      },
      "execution_count": null,
      "outputs": []
    }
  ]
}