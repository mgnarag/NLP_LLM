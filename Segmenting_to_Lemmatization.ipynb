{
  "nbformat": 4,
  "nbformat_minor": 0,
  "metadata": {
    "colab": {
      "provenance": [],
      "authorship_tag": "ABX9TyMaLWkpZB1gmHSv76IUNDpB",
      "include_colab_link": true
    },
    "kernelspec": {
      "name": "python3",
      "display_name": "Python 3"
    },
    "language_info": {
      "name": "python"
    }
  },
  "cells": [
    {
      "cell_type": "markdown",
      "metadata": {
        "id": "view-in-github",
        "colab_type": "text"
      },
      "source": [
        "<a href=\"https://colab.research.google.com/github/mgnarag/NLP_LLM/blob/main/Segmenting_to_Lemmatization.ipynb\" target=\"_parent\"><img src=\"https://colab.research.google.com/assets/colab-badge.svg\" alt=\"Open In Colab\"/></a>"
      ]
    },
    {
      "cell_type": "markdown",
      "source": [
        "Credits to: https://github.com/mochen862/nlp-tutorial/blob/main/nlp_hands_on_exercise.ipynb"
      ],
      "metadata": {
        "id": "SXvD5nfaOIrA"
      }
    },
    {
      "cell_type": "code",
      "execution_count": 1,
      "metadata": {
        "id": "GS9nzd3bNhfA",
        "outputId": "bb63a7be-eb92-4544-8dfd-e7845a0e2c9f",
        "colab": {
          "base_uri": "https://localhost:8080/",
          "height": 86
        }
      },
      "outputs": [
        {
          "output_type": "execute_result",
          "data": {
            "text/plain": [
              "\"Millions of people across the UK and beyond have celebrated the coronation of King Charles III - a symbolic ceremony combining a religious service and pageantry. The ceremony was held at Westminster Abbey, with the King becoming the 40th reigning monarch to be crowned there since 1066. Queen Camilla was crowned alongside him before a huge parade back to Buckingham Palace. Here's how the day of splendour and formality, which featured customs dating back more than 1,000 years, unfolded.\""
            ],
            "application/vnd.google.colaboratory.intrinsic+json": {
              "type": "string"
            }
          },
          "metadata": {},
          "execution_count": 1
        }
      ],
      "source": [
        "text = \"Millions of people across the UK and beyond have celebrated the coronation of King Charles III - a symbolic ceremony combining a religious service and pageantry. The ceremony was held at Westminster Abbey, with the King becoming the 40th reigning monarch to be crowned there since 1066. Queen Camilla was crowned alongside him before a huge parade back to Buckingham Palace. Here's how the day of splendour and formality, which featured customs dating back more than 1,000 years, unfolded.\"\n",
        "text"
      ]
    },
    {
      "cell_type": "markdown",
      "source": [
        "# **Segmentation**"
      ],
      "metadata": {
        "id": "RysC0oXBN-4z"
      }
    },
    {
      "cell_type": "code",
      "source": [
        "# import\n",
        "import nltk\n",
        "nltk.download('punkt')\n",
        "from nltk.tokenize import sent_tokenize"
      ],
      "metadata": {
        "id": "MWTrwQzaN7i-",
        "outputId": "18479ae4-3cc1-4b40-d1e6-e747512f97d8",
        "colab": {
          "base_uri": "https://localhost:8080/"
        }
      },
      "execution_count": 2,
      "outputs": [
        {
          "output_type": "stream",
          "name": "stderr",
          "text": [
            "[nltk_data] Downloading package punkt to /root/nltk_data...\n",
            "[nltk_data]   Unzipping tokenizers/punkt.zip.\n"
          ]
        }
      ]
    },
    {
      "cell_type": "code",
      "source": [
        "# Split text into sentences\n",
        "sentences = sent_tokenize(text)\n",
        "sentences"
      ],
      "metadata": {
        "id": "UVUuZ-UBOA2h",
        "outputId": "d1243959-bc02-470a-ab30-7498d69b747c",
        "colab": {
          "base_uri": "https://localhost:8080/"
        }
      },
      "execution_count": 3,
      "outputs": [
        {
          "output_type": "execute_result",
          "data": {
            "text/plain": [
              "['Millions of people across the UK and beyond have celebrated the coronation of King Charles III - a symbolic ceremony combining a religious service and pageantry.',\n",
              " 'The ceremony was held at Westminster Abbey, with the King becoming the 40th reigning monarch to be crowned there since 1066.',\n",
              " 'Queen Camilla was crowned alongside him before a huge parade back to Buckingham Palace.',\n",
              " \"Here's how the day of splendour and formality, which featured customs dating back more than 1,000 years, unfolded.\"]"
            ]
          },
          "metadata": {},
          "execution_count": 3
        }
      ]
    },
    {
      "cell_type": "code",
      "source": [
        "sentences[2]"
      ],
      "metadata": {
        "id": "xSskkix7OF4t",
        "outputId": "17d2b620-b031-43bc-c6f9-4feb5c5e0124",
        "colab": {
          "base_uri": "https://localhost:8080/",
          "height": 35
        }
      },
      "execution_count": 4,
      "outputs": [
        {
          "output_type": "execute_result",
          "data": {
            "text/plain": [
              "'Queen Camilla was crowned alongside him before a huge parade back to Buckingham Palace.'"
            ],
            "application/vnd.google.colaboratory.intrinsic+json": {
              "type": "string"
            }
          },
          "metadata": {},
          "execution_count": 4
        }
      ]
    },
    {
      "cell_type": "code",
      "source": [
        "# Punctuation removal\n",
        "import re\n",
        "\n",
        "# Remove punctuation characters\n",
        "text = re.sub(r\"[^a-zA-Z0-9]\", \" \", sentences[2])\n",
        "text"
      ],
      "metadata": {
        "id": "UXxtetqMOH1j",
        "outputId": "73d2a256-eddd-4710-ae2c-47f9e763ed9a",
        "colab": {
          "base_uri": "https://localhost:8080/",
          "height": 35
        }
      },
      "execution_count": 5,
      "outputs": [
        {
          "output_type": "execute_result",
          "data": {
            "text/plain": [
              "'Queen Camilla was crowned alongside him before a huge parade back to Buckingham Palace '"
            ],
            "application/vnd.google.colaboratory.intrinsic+json": {
              "type": "string"
            }
          },
          "metadata": {},
          "execution_count": 5
        }
      ]
    },
    {
      "cell_type": "markdown",
      "source": [
        "# **Tokenization**"
      ],
      "metadata": {
        "id": "OTvrRmjNOQRb"
      }
    },
    {
      "cell_type": "code",
      "source": [
        "from nltk.tokenize import word_tokenize"
      ],
      "metadata": {
        "id": "kLISWADBOPpY"
      },
      "execution_count": 6,
      "outputs": []
    },
    {
      "cell_type": "code",
      "source": [
        "words = word_tokenize(text)\n",
        "print(words)"
      ],
      "metadata": {
        "id": "1_qus0XkOTbw",
        "outputId": "1ceb6c1a-5350-493d-d44d-fef6139ea5fe",
        "colab": {
          "base_uri": "https://localhost:8080/"
        }
      },
      "execution_count": 7,
      "outputs": [
        {
          "output_type": "stream",
          "name": "stdout",
          "text": [
            "['Queen', 'Camilla', 'was', 'crowned', 'alongside', 'him', 'before', 'a', 'huge', 'parade', 'back', 'to', 'Buckingham', 'Palace']\n"
          ]
        }
      ]
    },
    {
      "cell_type": "markdown",
      "source": [
        "# **Stop Words**"
      ],
      "metadata": {
        "id": "pZBXPUhWObd3"
      }
    },
    {
      "cell_type": "code",
      "source": [
        "nltk.download('stopwords')\n",
        "from nltk.corpus import stopwords"
      ],
      "metadata": {
        "id": "Mpq2SdOOObIU",
        "outputId": "23d78023-00df-471c-bbd1-8a29c8abe425",
        "colab": {
          "base_uri": "https://localhost:8080/"
        }
      },
      "execution_count": 8,
      "outputs": [
        {
          "output_type": "stream",
          "name": "stderr",
          "text": [
            "[nltk_data] Downloading package stopwords to /root/nltk_data...\n",
            "[nltk_data]   Unzipping corpora/stopwords.zip.\n"
          ]
        }
      ]
    },
    {
      "cell_type": "code",
      "source": [
        "# Remove stop words\n",
        "words = [w for w in words if w not in stopwords.words(\"english\")]\n",
        "print(words)"
      ],
      "metadata": {
        "id": "MJvok_SdOg2q",
        "outputId": "0f7f3c92-af9c-4d02-ede4-2476e54c1e76",
        "colab": {
          "base_uri": "https://localhost:8080/"
        }
      },
      "execution_count": 9,
      "outputs": [
        {
          "output_type": "stream",
          "name": "stdout",
          "text": [
            "['Queen', 'Camilla', 'crowned', 'alongside', 'huge', 'parade', 'back', 'Buckingham', 'Palace']\n"
          ]
        }
      ]
    },
    {
      "cell_type": "code",
      "source": [
        "# have a look at the stop words in nltk's corpus\n",
        "print(stopwords.words(\"english\"))"
      ],
      "metadata": {
        "id": "7vD35nXaRprp",
        "outputId": "85ea3df9-4411-4a62-abb4-0dcc7f760cef",
        "colab": {
          "base_uri": "https://localhost:8080/"
        }
      },
      "execution_count": 12,
      "outputs": [
        {
          "output_type": "stream",
          "name": "stdout",
          "text": [
            "['i', 'me', 'my', 'myself', 'we', 'our', 'ours', 'ourselves', 'you', \"you're\", \"you've\", \"you'll\", \"you'd\", 'your', 'yours', 'yourself', 'yourselves', 'he', 'him', 'his', 'himself', 'she', \"she's\", 'her', 'hers', 'herself', 'it', \"it's\", 'its', 'itself', 'they', 'them', 'their', 'theirs', 'themselves', 'what', 'which', 'who', 'whom', 'this', 'that', \"that'll\", 'these', 'those', 'am', 'is', 'are', 'was', 'were', 'be', 'been', 'being', 'have', 'has', 'had', 'having', 'do', 'does', 'did', 'doing', 'a', 'an', 'the', 'and', 'but', 'if', 'or', 'because', 'as', 'until', 'while', 'of', 'at', 'by', 'for', 'with', 'about', 'against', 'between', 'into', 'through', 'during', 'before', 'after', 'above', 'below', 'to', 'from', 'up', 'down', 'in', 'out', 'on', 'off', 'over', 'under', 'again', 'further', 'then', 'once', 'here', 'there', 'when', 'where', 'why', 'how', 'all', 'any', 'both', 'each', 'few', 'more', 'most', 'other', 'some', 'such', 'no', 'nor', 'not', 'only', 'own', 'same', 'so', 'than', 'too', 'very', 's', 't', 'can', 'will', 'just', 'don', \"don't\", 'should', \"should've\", 'now', 'd', 'll', 'm', 'o', 're', 've', 'y', 'ain', 'aren', \"aren't\", 'couldn', \"couldn't\", 'didn', \"didn't\", 'doesn', \"doesn't\", 'hadn', \"hadn't\", 'hasn', \"hasn't\", 'haven', \"haven't\", 'isn', \"isn't\", 'ma', 'mightn', \"mightn't\", 'mustn', \"mustn't\", 'needn', \"needn't\", 'shan', \"shan't\", 'shouldn', \"shouldn't\", 'wasn', \"wasn't\", 'weren', \"weren't\", 'won', \"won't\", 'wouldn', \"wouldn't\"]\n"
          ]
        }
      ]
    },
    {
      "cell_type": "markdown",
      "source": [
        "# **Stemming and Lemmatization**"
      ],
      "metadata": {
        "id": "j7fklxvjRr_x"
      }
    },
    {
      "cell_type": "code",
      "source": [
        "nltk.download('wordnet') # download for lemmatization\n",
        "nltk.download('omw-1.4')"
      ],
      "metadata": {
        "id": "bJotdreHRvtQ",
        "outputId": "f8f4ef70-81d3-424d-9363-37997edc41e1",
        "colab": {
          "base_uri": "https://localhost:8080/"
        }
      },
      "execution_count": 13,
      "outputs": [
        {
          "output_type": "stream",
          "name": "stderr",
          "text": [
            "[nltk_data] Downloading package wordnet to /root/nltk_data...\n",
            "[nltk_data] Downloading package omw-1.4 to /root/nltk_data...\n"
          ]
        },
        {
          "output_type": "execute_result",
          "data": {
            "text/plain": [
              "True"
            ]
          },
          "metadata": {},
          "execution_count": 13
        }
      ]
    },
    {
      "cell_type": "code",
      "source": [
        "# Stemming\n",
        "from nltk.stem.porter import PorterStemmer\n",
        "\n",
        "# Reduce words to their stems\n",
        "stemmed = [PorterStemmer().stem(w) for w in words]\n",
        "print(stemmed)"
      ],
      "metadata": {
        "id": "XVWtu10ZRxgV",
        "outputId": "fac5fc0d-65f4-47b9-ed17-0f53a698199c",
        "colab": {
          "base_uri": "https://localhost:8080/"
        }
      },
      "execution_count": 14,
      "outputs": [
        {
          "output_type": "stream",
          "name": "stdout",
          "text": [
            "['queen', 'camilla', 'crown', 'alongsid', 'huge', 'parad', 'back', 'buckingham', 'palac']\n"
          ]
        }
      ]
    },
    {
      "cell_type": "code",
      "source": [
        "# Lemmatize\n",
        "from nltk.stem.wordnet import WordNetLemmatizer\n",
        "\n",
        "# Reduce words to their root form\n",
        "lemmatized = [WordNetLemmatizer().lemmatize(w) for w in words]\n",
        "print(lemmatized)"
      ],
      "metadata": {
        "id": "d5H_0h9KRzDn",
        "outputId": "538e89e0-2225-4859-e443-b8586465c378",
        "colab": {
          "base_uri": "https://localhost:8080/"
        }
      },
      "execution_count": 15,
      "outputs": [
        {
          "output_type": "stream",
          "name": "stdout",
          "text": [
            "['Queen', 'Camilla', 'crowned', 'alongside', 'huge', 'parade', 'back', 'Buckingham', 'Palace']\n"
          ]
        }
      ]
    },
    {
      "cell_type": "code",
      "source": [
        "# Another stemming and lemmatization example\n",
        "words2 = ['wait', 'waiting' , 'studies', 'studying', 'computers']\n",
        "\n",
        "# Stemming\n",
        "# Reduce words to their stems\n",
        "stemmed = [PorterStemmer().stem(w) for w in words2]\n",
        "print(\"Stemming output: {}\".format(stemmed))\n",
        "\n",
        "# Lemmatization\n",
        "# Reduce words to their root form\n",
        "lemmatized = [WordNetLemmatizer().lemmatize(w) for w in words2]\n",
        "print(\"Lemmatization output: {}\".format(lemmatized))"
      ],
      "metadata": {
        "id": "vLYcsixeR0jy",
        "outputId": "6823e3b3-a67e-4053-cbbd-7cd11236ce7a",
        "colab": {
          "base_uri": "https://localhost:8080/"
        }
      },
      "execution_count": 16,
      "outputs": [
        {
          "output_type": "stream",
          "name": "stdout",
          "text": [
            "Stemming output: ['wait', 'wait', 'studi', 'studi', 'comput']\n",
            "Lemmatization output: ['wait', 'waiting', 'study', 'studying', 'computer']\n"
          ]
        }
      ]
    },
    {
      "cell_type": "markdown",
      "source": [
        "# **Parts of Speech Tagging**\n"
      ],
      "metadata": {
        "id": "6fKKHfayR6lB"
      }
    },
    {
      "cell_type": "code",
      "source": [
        "nltk.download('averaged_perceptron_tagger')\n",
        "nltk.download('maxent_ne_chunker')"
      ],
      "metadata": {
        "id": "DZP7bfOrR_5m",
        "outputId": "f3165415-994b-4c60-ac0c-5edb3252b957",
        "colab": {
          "base_uri": "https://localhost:8080/"
        }
      },
      "execution_count": 17,
      "outputs": [
        {
          "output_type": "stream",
          "name": "stderr",
          "text": [
            "[nltk_data] Downloading package averaged_perceptron_tagger to\n",
            "[nltk_data]     /root/nltk_data...\n",
            "[nltk_data]   Unzipping taggers/averaged_perceptron_tagger.zip.\n",
            "[nltk_data] Downloading package maxent_ne_chunker to\n",
            "[nltk_data]     /root/nltk_data...\n",
            "[nltk_data]   Unzipping chunkers/maxent_ne_chunker.zip.\n"
          ]
        },
        {
          "output_type": "execute_result",
          "data": {
            "text/plain": [
              "True"
            ]
          },
          "metadata": {},
          "execution_count": 17
        }
      ]
    },
    {
      "cell_type": "code",
      "source": [
        "from nltk import pos_tag"
      ],
      "metadata": {
        "id": "60lTju1DSBiQ"
      },
      "execution_count": 18,
      "outputs": []
    },
    {
      "cell_type": "code",
      "source": [
        "# tag each word with part of speech\n",
        "pos_tag(words)"
      ],
      "metadata": {
        "id": "BiRwlyN9SDcn",
        "outputId": "0e96cb76-04a7-4fd6-a65b-243e76fb7d1b",
        "colab": {
          "base_uri": "https://localhost:8080/"
        }
      },
      "execution_count": 19,
      "outputs": [
        {
          "output_type": "execute_result",
          "data": {
            "text/plain": [
              "[('Queen', 'NNP'),\n",
              " ('Camilla', 'NNP'),\n",
              " ('crowned', 'VBD'),\n",
              " ('alongside', 'RB'),\n",
              " ('huge', 'JJ'),\n",
              " ('parade', 'NN'),\n",
              " ('back', 'RB'),\n",
              " ('Buckingham', 'NNP'),\n",
              " ('Palace', 'NNP')]"
            ]
          },
          "metadata": {},
          "execution_count": 19
        }
      ]
    },
    {
      "cell_type": "code",
      "source": [
        "\"\"\"\n",
        "POS\n",
        "\n",
        "CC: It is the conjunction of coordinating\n",
        "CD: It is a digit of cardinal\n",
        "DT: It is the determiner\n",
        "EX: Existential\n",
        "FW: It is a foreign word\n",
        "IN: Preposition and conjunction\n",
        "JJ: Adjective\n",
        "JJR and JJS: Adjective and superlative\n",
        "LS: List marker\n",
        "MD: Modal\n",
        "NN: Singular noun\n",
        "NNS, NNP, NNPS: Proper and plural noun\n",
        "PDT: Predeterminer\n",
        "WRB: Adverb of wh\n",
        "WP$: Possessive wh\n",
        "WP: Pronoun of wh\n",
        "WDT: Determiner of wp\n",
        "VBZ: Verb\n",
        "VBP, VBN, VBG, VBD, VB: Forms of verbs\n",
        "UH: Interjection\n",
        "TO: To go\n",
        "RP: Particle\n",
        "RBS, RB, RBR: Adverb\n",
        "PRP, PRP$: Pronoun personal and professional\n",
        "\n",
        "\"\"\""
      ],
      "metadata": {
        "id": "czCwq4AoSFRk",
        "outputId": "a18e42ca-22cc-4fea-e9d1-5072f1e2e5d6",
        "colab": {
          "base_uri": "https://localhost:8080/",
          "height": 86
        }
      },
      "execution_count": 20,
      "outputs": [
        {
          "output_type": "execute_result",
          "data": {
            "text/plain": [
              "'\\nPOS\\n\\nCC: It is the conjunction of coordinating\\nCD: It is a digit of cardinal\\nDT: It is the determiner\\nEX: Existential\\nFW: It is a foreign word\\nIN: Preposition and conjunction\\nJJ: Adjective\\nJJR and JJS: Adjective and superlative\\nLS: List marker\\nMD: Modal\\nNN: Singular noun\\nNNS, NNP, NNPS: Proper and plural noun\\nPDT: Predeterminer\\nWRB: Adverb of wh\\nWP$: Possessive wh\\nWP: Pronoun of wh\\nWDT: Determiner of wp\\nVBZ: Verb\\nVBP, VBN, VBG, VBD, VB: Forms of verbs\\nUH: Interjection\\nTO: To go\\nRP: Particle\\nRBS, RB, RBR: Adverb\\nPRP, PRP$: Pronoun personal and professional\\n\\n'"
            ],
            "application/vnd.google.colaboratory.intrinsic+json": {
              "type": "string"
            }
          },
          "metadata": {},
          "execution_count": 20
        }
      ]
    },
    {
      "cell_type": "markdown",
      "source": [
        "#**Named entity recognition**\n"
      ],
      "metadata": {
        "id": "iDNxRd9fSPKt"
      }
    },
    {
      "cell_type": "code",
      "source": [
        "from nltk import ne_chunk\n",
        "nltk.download('words')"
      ],
      "metadata": {
        "id": "EY3VgdaoSS5u",
        "outputId": "a0e5a708-602f-4c1a-9cbf-5805c8b9cd6e",
        "colab": {
          "base_uri": "https://localhost:8080/"
        }
      },
      "execution_count": 21,
      "outputs": [
        {
          "output_type": "stream",
          "name": "stderr",
          "text": [
            "[nltk_data] Downloading package words to /root/nltk_data...\n",
            "[nltk_data]   Unzipping corpora/words.zip.\n"
          ]
        },
        {
          "output_type": "execute_result",
          "data": {
            "text/plain": [
              "True"
            ]
          },
          "metadata": {},
          "execution_count": 21
        }
      ]
    },
    {
      "cell_type": "code",
      "source": [
        "ner_tree = ne_chunk(pos_tag(word_tokenize(sentences[2])))\n",
        "print(ner_tree)"
      ],
      "metadata": {
        "id": "jXQ2bPTWSUka",
        "outputId": "3b1f2feb-5cd6-4f2c-8dde-b545c533d642",
        "colab": {
          "base_uri": "https://localhost:8080/"
        }
      },
      "execution_count": 22,
      "outputs": [
        {
          "output_type": "stream",
          "name": "stdout",
          "text": [
            "(S\n",
            "  (PERSON Queen/NNP)\n",
            "  (PERSON Camilla/NNP)\n",
            "  was/VBD\n",
            "  crowned/VBN\n",
            "  alongside/RB\n",
            "  him/PRP\n",
            "  before/IN\n",
            "  a/DT\n",
            "  huge/JJ\n",
            "  parade/NN\n",
            "  back/RB\n",
            "  to/TO\n",
            "  (PERSON Buckingham/NNP Palace/NNP)\n",
            "  ./.)\n"
          ]
        }
      ]
    },
    {
      "cell_type": "code",
      "source": [
        "text = \"Millions of people across the UK and beyond have celebrated the coronation of King Charles III - a symbolic ceremony combining a religious service and pageantry. The ceremony was held at Westminster Abbey, with the King becoming the 40th reigning monarch to be crowned there since 1066. Queen Camilla was crowned alongside him before a huge parade back to Buckingham Palace. Here's how the day of splendour and formality, which featured customs dating back more than 1,000 years, unfolded.\"\n",
        "\n",
        "ner_tree = ne_chunk(pos_tag(word_tokenize(text)))\n",
        "print(ner_tree)"
      ],
      "metadata": {
        "id": "HkPh0ZfmSWx2",
        "outputId": "f414fbc8-4092-49d0-a7cf-cd7dc06dbf3f",
        "colab": {
          "base_uri": "https://localhost:8080/"
        }
      },
      "execution_count": 23,
      "outputs": [
        {
          "output_type": "stream",
          "name": "stdout",
          "text": [
            "(S\n",
            "  Millions/NNS\n",
            "  of/IN\n",
            "  people/NNS\n",
            "  across/IN\n",
            "  the/DT\n",
            "  (ORGANIZATION UK/NNP)\n",
            "  and/CC\n",
            "  beyond/IN\n",
            "  have/VBP\n",
            "  celebrated/VBN\n",
            "  the/DT\n",
            "  coronation/NN\n",
            "  of/IN\n",
            "  King/NNP\n",
            "  (PERSON Charles/NNP III/NNP)\n",
            "  -/:\n",
            "  a/DT\n",
            "  symbolic/JJ\n",
            "  ceremony/NN\n",
            "  combining/VBG\n",
            "  a/DT\n",
            "  religious/JJ\n",
            "  service/NN\n",
            "  and/CC\n",
            "  pageantry/NN\n",
            "  ./.\n",
            "  The/DT\n",
            "  ceremony/NN\n",
            "  was/VBD\n",
            "  held/VBN\n",
            "  at/IN\n",
            "  (ORGANIZATION Westminster/NNP Abbey/NNP)\n",
            "  ,/,\n",
            "  with/IN\n",
            "  the/DT\n",
            "  King/NNP\n",
            "  becoming/VBG\n",
            "  the/DT\n",
            "  40th/CD\n",
            "  reigning/VBG\n",
            "  monarch/NN\n",
            "  to/TO\n",
            "  be/VB\n",
            "  crowned/VBN\n",
            "  there/RB\n",
            "  since/IN\n",
            "  1066/CD\n",
            "  ./.\n",
            "  (PERSON Queen/NNP Camilla/NNP)\n",
            "  was/VBD\n",
            "  crowned/VBN\n",
            "  alongside/RB\n",
            "  him/PRP\n",
            "  before/IN\n",
            "  a/DT\n",
            "  huge/JJ\n",
            "  parade/NN\n",
            "  back/RB\n",
            "  to/TO\n",
            "  (PERSON Buckingham/NNP Palace/NNP)\n",
            "  ./.\n",
            "  Here/RB\n",
            "  's/VBZ\n",
            "  how/WRB\n",
            "  the/DT\n",
            "  day/NN\n",
            "  of/IN\n",
            "  splendour/NN\n",
            "  and/CC\n",
            "  formality/NN\n",
            "  ,/,\n",
            "  which/WDT\n",
            "  featured/VBD\n",
            "  customs/NNS\n",
            "  dating/VBG\n",
            "  back/RB\n",
            "  more/JJR\n",
            "  than/IN\n",
            "  1,000/CD\n",
            "  years/NNS\n",
            "  ,/,\n",
            "  unfolded/VBD\n",
            "  ./.)\n"
          ]
        }
      ]
    },
    {
      "cell_type": "code",
      "source": [
        "text = \"Twitter CEO Elon Musk arrived at the Staples Center in Los Angeles, California. \"\n",
        "ner_tree = ne_chunk(pos_tag(word_tokenize(text)))\n",
        "print(ner_tree)"
      ],
      "metadata": {
        "id": "u3EgaW9sSYjr",
        "outputId": "ce5acb5a-4cf7-4981-ef79-2a2f1fe8467b",
        "colab": {
          "base_uri": "https://localhost:8080/"
        }
      },
      "execution_count": 24,
      "outputs": [
        {
          "output_type": "stream",
          "name": "stdout",
          "text": [
            "(S\n",
            "  (PERSON Twitter/NNP)\n",
            "  (ORGANIZATION CEO/NNP Elon/NNP Musk/NNP)\n",
            "  arrived/VBD\n",
            "  at/IN\n",
            "  the/DT\n",
            "  (FACILITY Staples/NNP Center/NNP)\n",
            "  in/IN\n",
            "  (GPE Los/NNP Angeles/NNP)\n",
            "  ,/,\n",
            "  (GPE California/NNP)\n",
            "  ./.)\n"
          ]
        }
      ]
    },
    {
      "cell_type": "code",
      "source": [],
      "metadata": {
        "id": "tcWmkEguZhPO"
      },
      "execution_count": null,
      "outputs": []
    }
  ]
}